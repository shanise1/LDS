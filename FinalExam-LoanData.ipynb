{
 "cells": [
  {
   "cell_type": "markdown",
   "id": "e49c0826",
   "metadata": {},
   "source": [
    "<div style=\"background-color:lightblue; padding:10px;\">  \n",
    "    \n",
    "# Loan Data Set\n",
    "You will be working with the data set **loan_data.csv**. This data set captures the information submitted by customers in their online application forms for requesting a loan. This information includes gender, marital status, education, number of dependents, income, loan amount, credit history, and other relevant details. We are interested in the **Loan_Status** of the customers, whether or not they were approved for the loan. If a customer is approved for a loan, their **Loan_Status** is denoted with a **Y**. If a customer is not approved for a loan, **Loan_Status** is denoted with a **N**."
   ]
  },
  {
   "cell_type": "code",
   "execution_count": 1,
   "id": "60aa85d3",
   "metadata": {},
   "outputs": [],
   "source": [
    "#import all packages needed\n",
    "import pandas as pd\n",
    "import numpy as np\n",
    "from sklearn.model_selection import train_test_split\n",
    "import random\n",
    "from sklearn.tree import DecisionTreeClassifier, export_graphviz\n",
    "import graphviz\n",
    "from sklearn.ensemble import RandomForestClassifier\n",
    "from sklearn.naive_bayes import GaussianNB\n",
    "import statsmodels.api as sm\n",
    "from sklearn.metrics import mean_absolute_error, mean_squared_error, accuracy_score, r2_score\n",
    "import matplotlib.pyplot as plt\n",
    "import seaborn as sns"
   ]
  },
  {
   "cell_type": "code",
   "execution_count": 2,
   "id": "db114564",
   "metadata": {},
   "outputs": [],
   "source": [
    "loan = pd.read_csv(\"/Users/shanisewalker/Dropbox/CAU Courses/CMAT 651/Exams/Exam 1 Programming/loan_data.csv\")"
   ]
  },
  {
   "cell_type": "code",
   "execution_count": 3,
   "id": "b17717bc",
   "metadata": {
    "scrolled": true
   },
   "outputs": [
    {
     "data": {
      "text/html": [
       "<div>\n",
       "<style scoped>\n",
       "    .dataframe tbody tr th:only-of-type {\n",
       "        vertical-align: middle;\n",
       "    }\n",
       "\n",
       "    .dataframe tbody tr th {\n",
       "        vertical-align: top;\n",
       "    }\n",
       "\n",
       "    .dataframe thead th {\n",
       "        text-align: right;\n",
       "    }\n",
       "</style>\n",
       "<table border=\"1\" class=\"dataframe\">\n",
       "  <thead>\n",
       "    <tr style=\"text-align: right;\">\n",
       "      <th></th>\n",
       "      <th>Loan_ID</th>\n",
       "      <th>Gender</th>\n",
       "      <th>Married</th>\n",
       "      <th>Dependents</th>\n",
       "      <th>Education</th>\n",
       "      <th>Self_Employed</th>\n",
       "      <th>ApplicantIncome</th>\n",
       "      <th>CoapplicantIncome</th>\n",
       "      <th>LoanAmount</th>\n",
       "      <th>Loan_Amount_Term</th>\n",
       "      <th>Credit_History</th>\n",
       "      <th>Property_Area</th>\n",
       "      <th>Loan_Status</th>\n",
       "    </tr>\n",
       "  </thead>\n",
       "  <tbody>\n",
       "    <tr>\n",
       "      <th>0</th>\n",
       "      <td>LP001002</td>\n",
       "      <td>Male</td>\n",
       "      <td>No</td>\n",
       "      <td>0</td>\n",
       "      <td>Graduate</td>\n",
       "      <td>No</td>\n",
       "      <td>5849</td>\n",
       "      <td>0.0</td>\n",
       "      <td>NaN</td>\n",
       "      <td>360.0</td>\n",
       "      <td>1.0</td>\n",
       "      <td>Urban</td>\n",
       "      <td>Y</td>\n",
       "    </tr>\n",
       "    <tr>\n",
       "      <th>1</th>\n",
       "      <td>LP001003</td>\n",
       "      <td>Male</td>\n",
       "      <td>Yes</td>\n",
       "      <td>1</td>\n",
       "      <td>Graduate</td>\n",
       "      <td>No</td>\n",
       "      <td>4583</td>\n",
       "      <td>1508.0</td>\n",
       "      <td>128.0</td>\n",
       "      <td>360.0</td>\n",
       "      <td>1.0</td>\n",
       "      <td>Rural</td>\n",
       "      <td>N</td>\n",
       "    </tr>\n",
       "    <tr>\n",
       "      <th>2</th>\n",
       "      <td>LP001005</td>\n",
       "      <td>Male</td>\n",
       "      <td>Yes</td>\n",
       "      <td>0</td>\n",
       "      <td>Graduate</td>\n",
       "      <td>Yes</td>\n",
       "      <td>3000</td>\n",
       "      <td>0.0</td>\n",
       "      <td>66.0</td>\n",
       "      <td>360.0</td>\n",
       "      <td>1.0</td>\n",
       "      <td>Urban</td>\n",
       "      <td>Y</td>\n",
       "    </tr>\n",
       "    <tr>\n",
       "      <th>3</th>\n",
       "      <td>LP001006</td>\n",
       "      <td>Male</td>\n",
       "      <td>Yes</td>\n",
       "      <td>0</td>\n",
       "      <td>Not Graduate</td>\n",
       "      <td>No</td>\n",
       "      <td>2583</td>\n",
       "      <td>2358.0</td>\n",
       "      <td>120.0</td>\n",
       "      <td>360.0</td>\n",
       "      <td>1.0</td>\n",
       "      <td>Urban</td>\n",
       "      <td>Y</td>\n",
       "    </tr>\n",
       "    <tr>\n",
       "      <th>4</th>\n",
       "      <td>LP001008</td>\n",
       "      <td>Male</td>\n",
       "      <td>No</td>\n",
       "      <td>0</td>\n",
       "      <td>Graduate</td>\n",
       "      <td>No</td>\n",
       "      <td>6000</td>\n",
       "      <td>0.0</td>\n",
       "      <td>141.0</td>\n",
       "      <td>360.0</td>\n",
       "      <td>1.0</td>\n",
       "      <td>Urban</td>\n",
       "      <td>Y</td>\n",
       "    </tr>\n",
       "  </tbody>\n",
       "</table>\n",
       "</div>"
      ],
      "text/plain": [
       "    Loan_ID Gender Married Dependents     Education Self_Employed  \\\n",
       "0  LP001002   Male      No          0      Graduate            No   \n",
       "1  LP001003   Male     Yes          1      Graduate            No   \n",
       "2  LP001005   Male     Yes          0      Graduate           Yes   \n",
       "3  LP001006   Male     Yes          0  Not Graduate            No   \n",
       "4  LP001008   Male      No          0      Graduate            No   \n",
       "\n",
       "   ApplicantIncome  CoapplicantIncome  LoanAmount  Loan_Amount_Term  \\\n",
       "0             5849                0.0         NaN             360.0   \n",
       "1             4583             1508.0       128.0             360.0   \n",
       "2             3000                0.0        66.0             360.0   \n",
       "3             2583             2358.0       120.0             360.0   \n",
       "4             6000                0.0       141.0             360.0   \n",
       "\n",
       "   Credit_History Property_Area Loan_Status  \n",
       "0             1.0         Urban           Y  \n",
       "1             1.0         Rural           N  \n",
       "2             1.0         Urban           Y  \n",
       "3             1.0         Urban           Y  \n",
       "4             1.0         Urban           Y  "
      ]
     },
     "execution_count": 3,
     "metadata": {},
     "output_type": "execute_result"
    }
   ],
   "source": [
    "loan.head()"
   ]
  },
  {
   "cell_type": "markdown",
   "id": "ba8b9170",
   "metadata": {},
   "source": [
    "## Data Exploration"
   ]
  },
  {
   "cell_type": "code",
   "execution_count": 4,
   "id": "c946c7d5",
   "metadata": {},
   "outputs": [
    {
     "data": {
      "text/plain": [
       "(614, 13)"
      ]
     },
     "execution_count": 4,
     "metadata": {},
     "output_type": "execute_result"
    }
   ],
   "source": [
    "loan.shape"
   ]
  },
  {
   "cell_type": "code",
   "execution_count": 5,
   "id": "013d50b9",
   "metadata": {},
   "outputs": [
    {
     "name": "stdout",
     "output_type": "stream",
     "text": [
      "<class 'pandas.core.frame.DataFrame'>\n",
      "RangeIndex: 614 entries, 0 to 613\n",
      "Data columns (total 13 columns):\n",
      " #   Column             Non-Null Count  Dtype  \n",
      "---  ------             --------------  -----  \n",
      " 0   Loan_ID            614 non-null    object \n",
      " 1   Gender             601 non-null    object \n",
      " 2   Married            611 non-null    object \n",
      " 3   Dependents         599 non-null    object \n",
      " 4   Education          614 non-null    object \n",
      " 5   Self_Employed      582 non-null    object \n",
      " 6   ApplicantIncome    614 non-null    int64  \n",
      " 7   CoapplicantIncome  614 non-null    float64\n",
      " 8   LoanAmount         592 non-null    float64\n",
      " 9   Loan_Amount_Term   600 non-null    float64\n",
      " 10  Credit_History     564 non-null    float64\n",
      " 11  Property_Area      614 non-null    object \n",
      " 12  Loan_Status        614 non-null    object \n",
      "dtypes: float64(4), int64(1), object(8)\n",
      "memory usage: 62.5+ KB\n"
     ]
    }
   ],
   "source": [
    "loan.info()"
   ]
  },
  {
   "cell_type": "code",
   "execution_count": 6,
   "id": "f78080ca",
   "metadata": {},
   "outputs": [
    {
     "data": {
      "text/html": [
       "<div>\n",
       "<style scoped>\n",
       "    .dataframe tbody tr th:only-of-type {\n",
       "        vertical-align: middle;\n",
       "    }\n",
       "\n",
       "    .dataframe tbody tr th {\n",
       "        vertical-align: top;\n",
       "    }\n",
       "\n",
       "    .dataframe thead th {\n",
       "        text-align: right;\n",
       "    }\n",
       "</style>\n",
       "<table border=\"1\" class=\"dataframe\">\n",
       "  <thead>\n",
       "    <tr style=\"text-align: right;\">\n",
       "      <th></th>\n",
       "      <th>ApplicantIncome</th>\n",
       "      <th>CoapplicantIncome</th>\n",
       "      <th>LoanAmount</th>\n",
       "      <th>Loan_Amount_Term</th>\n",
       "      <th>Credit_History</th>\n",
       "    </tr>\n",
       "  </thead>\n",
       "  <tbody>\n",
       "    <tr>\n",
       "      <th>count</th>\n",
       "      <td>614.000000</td>\n",
       "      <td>614.000000</td>\n",
       "      <td>592.000000</td>\n",
       "      <td>600.00000</td>\n",
       "      <td>564.000000</td>\n",
       "    </tr>\n",
       "    <tr>\n",
       "      <th>mean</th>\n",
       "      <td>5403.459283</td>\n",
       "      <td>1621.245798</td>\n",
       "      <td>146.412162</td>\n",
       "      <td>342.00000</td>\n",
       "      <td>0.842199</td>\n",
       "    </tr>\n",
       "    <tr>\n",
       "      <th>std</th>\n",
       "      <td>6109.041673</td>\n",
       "      <td>2926.248369</td>\n",
       "      <td>85.587325</td>\n",
       "      <td>65.12041</td>\n",
       "      <td>0.364878</td>\n",
       "    </tr>\n",
       "    <tr>\n",
       "      <th>min</th>\n",
       "      <td>150.000000</td>\n",
       "      <td>0.000000</td>\n",
       "      <td>9.000000</td>\n",
       "      <td>12.00000</td>\n",
       "      <td>0.000000</td>\n",
       "    </tr>\n",
       "    <tr>\n",
       "      <th>25%</th>\n",
       "      <td>2877.500000</td>\n",
       "      <td>0.000000</td>\n",
       "      <td>100.000000</td>\n",
       "      <td>360.00000</td>\n",
       "      <td>1.000000</td>\n",
       "    </tr>\n",
       "    <tr>\n",
       "      <th>50%</th>\n",
       "      <td>3812.500000</td>\n",
       "      <td>1188.500000</td>\n",
       "      <td>128.000000</td>\n",
       "      <td>360.00000</td>\n",
       "      <td>1.000000</td>\n",
       "    </tr>\n",
       "    <tr>\n",
       "      <th>75%</th>\n",
       "      <td>5795.000000</td>\n",
       "      <td>2297.250000</td>\n",
       "      <td>168.000000</td>\n",
       "      <td>360.00000</td>\n",
       "      <td>1.000000</td>\n",
       "    </tr>\n",
       "    <tr>\n",
       "      <th>max</th>\n",
       "      <td>81000.000000</td>\n",
       "      <td>41667.000000</td>\n",
       "      <td>700.000000</td>\n",
       "      <td>480.00000</td>\n",
       "      <td>1.000000</td>\n",
       "    </tr>\n",
       "  </tbody>\n",
       "</table>\n",
       "</div>"
      ],
      "text/plain": [
       "       ApplicantIncome  CoapplicantIncome  LoanAmount  Loan_Amount_Term  \\\n",
       "count       614.000000         614.000000  592.000000         600.00000   \n",
       "mean       5403.459283        1621.245798  146.412162         342.00000   \n",
       "std        6109.041673        2926.248369   85.587325          65.12041   \n",
       "min         150.000000           0.000000    9.000000          12.00000   \n",
       "25%        2877.500000           0.000000  100.000000         360.00000   \n",
       "50%        3812.500000        1188.500000  128.000000         360.00000   \n",
       "75%        5795.000000        2297.250000  168.000000         360.00000   \n",
       "max       81000.000000       41667.000000  700.000000         480.00000   \n",
       "\n",
       "       Credit_History  \n",
       "count      564.000000  \n",
       "mean         0.842199  \n",
       "std          0.364878  \n",
       "min          0.000000  \n",
       "25%          1.000000  \n",
       "50%          1.000000  \n",
       "75%          1.000000  \n",
       "max          1.000000  "
      ]
     },
     "execution_count": 6,
     "metadata": {},
     "output_type": "execute_result"
    }
   ],
   "source": [
    "loan.describe()"
   ]
  },
  {
   "cell_type": "markdown",
   "id": "9cf9c820",
   "metadata": {},
   "source": [
    "### Add a Loan Status Numerical Variable\n",
    "Currently, an applicant's **Loan_Status** is denoted with a **Y** (meaning they are approved) or a **N** (meaning they are not approved). In the following code, a new variable **Loan_Status_Numeric**  is created to change **Loan_Status** from a categorical to a numerical variable. "
   ]
  },
  {
   "cell_type": "code",
   "execution_count": 7,
   "id": "eee6d483",
   "metadata": {},
   "outputs": [
    {
     "data": {
      "text/html": [
       "<div>\n",
       "<style scoped>\n",
       "    .dataframe tbody tr th:only-of-type {\n",
       "        vertical-align: middle;\n",
       "    }\n",
       "\n",
       "    .dataframe tbody tr th {\n",
       "        vertical-align: top;\n",
       "    }\n",
       "\n",
       "    .dataframe thead th {\n",
       "        text-align: right;\n",
       "    }\n",
       "</style>\n",
       "<table border=\"1\" class=\"dataframe\">\n",
       "  <thead>\n",
       "    <tr style=\"text-align: right;\">\n",
       "      <th></th>\n",
       "      <th>Loan_ID</th>\n",
       "      <th>Gender</th>\n",
       "      <th>Married</th>\n",
       "      <th>Dependents</th>\n",
       "      <th>Education</th>\n",
       "      <th>Self_Employed</th>\n",
       "      <th>ApplicantIncome</th>\n",
       "      <th>CoapplicantIncome</th>\n",
       "      <th>LoanAmount</th>\n",
       "      <th>Loan_Amount_Term</th>\n",
       "      <th>Credit_History</th>\n",
       "      <th>Property_Area</th>\n",
       "      <th>Loan_Status</th>\n",
       "      <th>Loan_Status_Numeric</th>\n",
       "    </tr>\n",
       "  </thead>\n",
       "  <tbody>\n",
       "    <tr>\n",
       "      <th>0</th>\n",
       "      <td>LP001002</td>\n",
       "      <td>Male</td>\n",
       "      <td>No</td>\n",
       "      <td>0</td>\n",
       "      <td>Graduate</td>\n",
       "      <td>No</td>\n",
       "      <td>5849</td>\n",
       "      <td>0.0</td>\n",
       "      <td>NaN</td>\n",
       "      <td>360.0</td>\n",
       "      <td>1.0</td>\n",
       "      <td>Urban</td>\n",
       "      <td>Y</td>\n",
       "      <td>1</td>\n",
       "    </tr>\n",
       "    <tr>\n",
       "      <th>1</th>\n",
       "      <td>LP001003</td>\n",
       "      <td>Male</td>\n",
       "      <td>Yes</td>\n",
       "      <td>1</td>\n",
       "      <td>Graduate</td>\n",
       "      <td>No</td>\n",
       "      <td>4583</td>\n",
       "      <td>1508.0</td>\n",
       "      <td>128.0</td>\n",
       "      <td>360.0</td>\n",
       "      <td>1.0</td>\n",
       "      <td>Rural</td>\n",
       "      <td>N</td>\n",
       "      <td>0</td>\n",
       "    </tr>\n",
       "    <tr>\n",
       "      <th>2</th>\n",
       "      <td>LP001005</td>\n",
       "      <td>Male</td>\n",
       "      <td>Yes</td>\n",
       "      <td>0</td>\n",
       "      <td>Graduate</td>\n",
       "      <td>Yes</td>\n",
       "      <td>3000</td>\n",
       "      <td>0.0</td>\n",
       "      <td>66.0</td>\n",
       "      <td>360.0</td>\n",
       "      <td>1.0</td>\n",
       "      <td>Urban</td>\n",
       "      <td>Y</td>\n",
       "      <td>1</td>\n",
       "    </tr>\n",
       "    <tr>\n",
       "      <th>3</th>\n",
       "      <td>LP001006</td>\n",
       "      <td>Male</td>\n",
       "      <td>Yes</td>\n",
       "      <td>0</td>\n",
       "      <td>Not Graduate</td>\n",
       "      <td>No</td>\n",
       "      <td>2583</td>\n",
       "      <td>2358.0</td>\n",
       "      <td>120.0</td>\n",
       "      <td>360.0</td>\n",
       "      <td>1.0</td>\n",
       "      <td>Urban</td>\n",
       "      <td>Y</td>\n",
       "      <td>1</td>\n",
       "    </tr>\n",
       "    <tr>\n",
       "      <th>4</th>\n",
       "      <td>LP001008</td>\n",
       "      <td>Male</td>\n",
       "      <td>No</td>\n",
       "      <td>0</td>\n",
       "      <td>Graduate</td>\n",
       "      <td>No</td>\n",
       "      <td>6000</td>\n",
       "      <td>0.0</td>\n",
       "      <td>141.0</td>\n",
       "      <td>360.0</td>\n",
       "      <td>1.0</td>\n",
       "      <td>Urban</td>\n",
       "      <td>Y</td>\n",
       "      <td>1</td>\n",
       "    </tr>\n",
       "  </tbody>\n",
       "</table>\n",
       "</div>"
      ],
      "text/plain": [
       "    Loan_ID Gender Married Dependents     Education Self_Employed  \\\n",
       "0  LP001002   Male      No          0      Graduate            No   \n",
       "1  LP001003   Male     Yes          1      Graduate            No   \n",
       "2  LP001005   Male     Yes          0      Graduate           Yes   \n",
       "3  LP001006   Male     Yes          0  Not Graduate            No   \n",
       "4  LP001008   Male      No          0      Graduate            No   \n",
       "\n",
       "   ApplicantIncome  CoapplicantIncome  LoanAmount  Loan_Amount_Term  \\\n",
       "0             5849                0.0         NaN             360.0   \n",
       "1             4583             1508.0       128.0             360.0   \n",
       "2             3000                0.0        66.0             360.0   \n",
       "3             2583             2358.0       120.0             360.0   \n",
       "4             6000                0.0       141.0             360.0   \n",
       "\n",
       "   Credit_History Property_Area Loan_Status  Loan_Status_Numeric  \n",
       "0             1.0         Urban           Y                    1  \n",
       "1             1.0         Rural           N                    0  \n",
       "2             1.0         Urban           Y                    1  \n",
       "3             1.0         Urban           Y                    1  \n",
       "4             1.0         Urban           Y                    1  "
      ]
     },
     "execution_count": 7,
     "metadata": {},
     "output_type": "execute_result"
    }
   ],
   "source": [
    "#new index column for Loan Status to create a numberical column \n",
    "#instead of categorical column for Loan Status\n",
    "loan['Loan_Status_Numeric'] = loan['Loan_Status']\n",
    "\n",
    "#create a dictionary for loan_status\n",
    "dict_loan_status = {\"Loan_Status_Numeric\": {\"N\": 0, \"Y\": 1}} \n",
    "loan.replace(dict_loan_status, inplace=True)\n",
    "\n",
    "loan.head()"
   ]
  },
  {
   "cell_type": "markdown",
   "id": "f80c4067",
   "metadata": {},
   "source": []
  },
  {
   "cell_type": "markdown",
   "id": "9e945994",
   "metadata": {},
   "source": [
    "### Correlation Matrix for numerical variables"
   ]
  },
  {
   "cell_type": "code",
   "execution_count": 8,
   "id": "114924f6",
   "metadata": {},
   "outputs": [
    {
     "data": {
      "text/html": [
       "<style type=\"text/css\">\n",
       "#T_44856_row0_col0, #T_44856_row1_col1, #T_44856_row2_col2, #T_44856_row3_col3, #T_44856_row4_col4, #T_44856_row5_col5 {\n",
       "  background-color: #b40426;\n",
       "  color: #f1f1f1;\n",
       "}\n",
       "#T_44856_row0_col1, #T_44856_row0_col4, #T_44856_row1_col0, #T_44856_row1_col3, #T_44856_row1_col5, #T_44856_row5_col2 {\n",
       "  background-color: #3b4cc0;\n",
       "  color: #f1f1f1;\n",
       "}\n",
       "#T_44856_row0_col2, #T_44856_row4_col5 {\n",
       "  background-color: #f0cdbb;\n",
       "  color: #000000;\n",
       "}\n",
       "#T_44856_row0_col3, #T_44856_row1_col4 {\n",
       "  background-color: #3e51c5;\n",
       "  color: #f1f1f1;\n",
       "}\n",
       "#T_44856_row0_col5, #T_44856_row3_col1, #T_44856_row5_col1 {\n",
       "  background-color: #4a63d3;\n",
       "  color: #f1f1f1;\n",
       "}\n",
       "#T_44856_row1_col2 {\n",
       "  background-color: #81a4fb;\n",
       "  color: #f1f1f1;\n",
       "}\n",
       "#T_44856_row2_col0 {\n",
       "  background-color: #f3c7b1;\n",
       "  color: #000000;\n",
       "}\n",
       "#T_44856_row2_col1 {\n",
       "  background-color: #94b6ff;\n",
       "  color: #000000;\n",
       "}\n",
       "#T_44856_row2_col3, #T_44856_row4_col0 {\n",
       "  background-color: #5673e0;\n",
       "  color: #f1f1f1;\n",
       "}\n",
       "#T_44856_row2_col4 {\n",
       "  background-color: #3c4ec2;\n",
       "  color: #f1f1f1;\n",
       "}\n",
       "#T_44856_row2_col5 {\n",
       "  background-color: #4055c8;\n",
       "  color: #f1f1f1;\n",
       "}\n",
       "#T_44856_row3_col0 {\n",
       "  background-color: #4e68d8;\n",
       "  color: #f1f1f1;\n",
       "}\n",
       "#T_44856_row3_col2 {\n",
       "  background-color: #506bda;\n",
       "  color: #f1f1f1;\n",
       "}\n",
       "#T_44856_row3_col4 {\n",
       "  background-color: #3f53c6;\n",
       "  color: #f1f1f1;\n",
       "}\n",
       "#T_44856_row3_col5, #T_44856_row5_col3 {\n",
       "  background-color: #455cce;\n",
       "  color: #f1f1f1;\n",
       "}\n",
       "#T_44856_row4_col1 {\n",
       "  background-color: #5a78e4;\n",
       "  color: #f1f1f1;\n",
       "}\n",
       "#T_44856_row4_col2 {\n",
       "  background-color: #4358cb;\n",
       "  color: #f1f1f1;\n",
       "}\n",
       "#T_44856_row4_col3 {\n",
       "  background-color: #4b64d5;\n",
       "  color: #f1f1f1;\n",
       "}\n",
       "#T_44856_row5_col0 {\n",
       "  background-color: #5977e3;\n",
       "  color: #f1f1f1;\n",
       "}\n",
       "#T_44856_row5_col4 {\n",
       "  background-color: #edd2c3;\n",
       "  color: #000000;\n",
       "}\n",
       "</style>\n",
       "<table id=\"T_44856_\">\n",
       "  <thead>\n",
       "    <tr>\n",
       "      <th class=\"blank level0\" >&nbsp;</th>\n",
       "      <th class=\"col_heading level0 col0\" >ApplicantIncome</th>\n",
       "      <th class=\"col_heading level0 col1\" >CoapplicantIncome</th>\n",
       "      <th class=\"col_heading level0 col2\" >LoanAmount</th>\n",
       "      <th class=\"col_heading level0 col3\" >Loan_Amount_Term</th>\n",
       "      <th class=\"col_heading level0 col4\" >Credit_History</th>\n",
       "      <th class=\"col_heading level0 col5\" >Loan_Status_Numeric</th>\n",
       "    </tr>\n",
       "  </thead>\n",
       "  <tbody>\n",
       "    <tr>\n",
       "      <th id=\"T_44856_level0_row0\" class=\"row_heading level0 row0\" >ApplicantIncome</th>\n",
       "      <td id=\"T_44856_row0_col0\" class=\"data row0 col0\" >1.000000</td>\n",
       "      <td id=\"T_44856_row0_col1\" class=\"data row0 col1\" >-0.116605</td>\n",
       "      <td id=\"T_44856_row0_col2\" class=\"data row0 col2\" >0.570909</td>\n",
       "      <td id=\"T_44856_row0_col3\" class=\"data row0 col3\" >-0.045306</td>\n",
       "      <td id=\"T_44856_row0_col4\" class=\"data row0 col4\" >-0.014715</td>\n",
       "      <td id=\"T_44856_row0_col5\" class=\"data row0 col5\" >-0.004710</td>\n",
       "    </tr>\n",
       "    <tr>\n",
       "      <th id=\"T_44856_level0_row1\" class=\"row_heading level0 row1\" >CoapplicantIncome</th>\n",
       "      <td id=\"T_44856_row1_col0\" class=\"data row1 col0\" >-0.116605</td>\n",
       "      <td id=\"T_44856_row1_col1\" class=\"data row1 col1\" >1.000000</td>\n",
       "      <td id=\"T_44856_row1_col2\" class=\"data row1 col2\" >0.188619</td>\n",
       "      <td id=\"T_44856_row1_col3\" class=\"data row1 col3\" >-0.059878</td>\n",
       "      <td id=\"T_44856_row1_col4\" class=\"data row1 col4\" >-0.002056</td>\n",
       "      <td id=\"T_44856_row1_col5\" class=\"data row1 col5\" >-0.059187</td>\n",
       "    </tr>\n",
       "    <tr>\n",
       "      <th id=\"T_44856_level0_row2\" class=\"row_heading level0 row2\" >LoanAmount</th>\n",
       "      <td id=\"T_44856_row2_col0\" class=\"data row2 col0\" >0.570909</td>\n",
       "      <td id=\"T_44856_row2_col1\" class=\"data row2 col1\" >0.188619</td>\n",
       "      <td id=\"T_44856_row2_col2\" class=\"data row2 col2\" >1.000000</td>\n",
       "      <td id=\"T_44856_row2_col3\" class=\"data row2 col3\" >0.039447</td>\n",
       "      <td id=\"T_44856_row2_col4\" class=\"data row2 col4\" >-0.008433</td>\n",
       "      <td id=\"T_44856_row2_col5\" class=\"data row2 col5\" >-0.037318</td>\n",
       "    </tr>\n",
       "    <tr>\n",
       "      <th id=\"T_44856_level0_row3\" class=\"row_heading level0 row3\" >Loan_Amount_Term</th>\n",
       "      <td id=\"T_44856_row3_col0\" class=\"data row3 col0\" >-0.045306</td>\n",
       "      <td id=\"T_44856_row3_col1\" class=\"data row3 col1\" >-0.059878</td>\n",
       "      <td id=\"T_44856_row3_col2\" class=\"data row3 col2\" >0.039447</td>\n",
       "      <td id=\"T_44856_row3_col3\" class=\"data row3 col3\" >1.000000</td>\n",
       "      <td id=\"T_44856_row3_col4\" class=\"data row3 col4\" >0.001470</td>\n",
       "      <td id=\"T_44856_row3_col5\" class=\"data row3 col5\" >-0.021268</td>\n",
       "    </tr>\n",
       "    <tr>\n",
       "      <th id=\"T_44856_level0_row4\" class=\"row_heading level0 row4\" >Credit_History</th>\n",
       "      <td id=\"T_44856_row4_col0\" class=\"data row4 col0\" >-0.014715</td>\n",
       "      <td id=\"T_44856_row4_col1\" class=\"data row4 col1\" >-0.002056</td>\n",
       "      <td id=\"T_44856_row4_col2\" class=\"data row4 col2\" >-0.008433</td>\n",
       "      <td id=\"T_44856_row4_col3\" class=\"data row4 col3\" >0.001470</td>\n",
       "      <td id=\"T_44856_row4_col4\" class=\"data row4 col4\" >1.000000</td>\n",
       "      <td id=\"T_44856_row4_col5\" class=\"data row4 col5\" >0.561678</td>\n",
       "    </tr>\n",
       "    <tr>\n",
       "      <th id=\"T_44856_level0_row5\" class=\"row_heading level0 row5\" >Loan_Status_Numeric</th>\n",
       "      <td id=\"T_44856_row5_col0\" class=\"data row5 col0\" >-0.004710</td>\n",
       "      <td id=\"T_44856_row5_col1\" class=\"data row5 col1\" >-0.059187</td>\n",
       "      <td id=\"T_44856_row5_col2\" class=\"data row5 col2\" >-0.037318</td>\n",
       "      <td id=\"T_44856_row5_col3\" class=\"data row5 col3\" >-0.021268</td>\n",
       "      <td id=\"T_44856_row5_col4\" class=\"data row5 col4\" >0.561678</td>\n",
       "      <td id=\"T_44856_row5_col5\" class=\"data row5 col5\" >1.000000</td>\n",
       "    </tr>\n",
       "  </tbody>\n",
       "</table>\n"
      ],
      "text/plain": [
       "<pandas.io.formats.style.Styler at 0x7fba89e17370>"
      ]
     },
     "execution_count": 8,
     "metadata": {},
     "output_type": "execute_result"
    }
   ],
   "source": [
    "# Calculating the correlation matrix for predictor variables\n",
    "correlation_matrix = loan.corr()\n",
    "\n",
    "# Plotting the correlation matrix\n",
    "correlation_matrix.style.background_gradient(cmap = 'coolwarm')"
   ]
  },
  {
   "cell_type": "markdown",
   "id": "924a2ab0",
   "metadata": {},
   "source": [
    "### Contigency table of Gender and Married"
   ]
  },
  {
   "cell_type": "code",
   "execution_count": 9,
   "id": "de981f6c",
   "metadata": {},
   "outputs": [
    {
     "data": {
      "text/html": [
       "<div>\n",
       "<style scoped>\n",
       "    .dataframe tbody tr th:only-of-type {\n",
       "        vertical-align: middle;\n",
       "    }\n",
       "\n",
       "    .dataframe tbody tr th {\n",
       "        vertical-align: top;\n",
       "    }\n",
       "\n",
       "    .dataframe thead th {\n",
       "        text-align: right;\n",
       "    }\n",
       "</style>\n",
       "<table border=\"1\" class=\"dataframe\">\n",
       "  <thead>\n",
       "    <tr style=\"text-align: right;\">\n",
       "      <th>Married</th>\n",
       "      <th>No</th>\n",
       "      <th>Yes</th>\n",
       "      <th>Total</th>\n",
       "    </tr>\n",
       "    <tr>\n",
       "      <th>Gender</th>\n",
       "      <th></th>\n",
       "      <th></th>\n",
       "      <th></th>\n",
       "    </tr>\n",
       "  </thead>\n",
       "  <tbody>\n",
       "    <tr>\n",
       "      <th>Female</th>\n",
       "      <td>80</td>\n",
       "      <td>31</td>\n",
       "      <td>111</td>\n",
       "    </tr>\n",
       "    <tr>\n",
       "      <th>Male</th>\n",
       "      <td>130</td>\n",
       "      <td>357</td>\n",
       "      <td>487</td>\n",
       "    </tr>\n",
       "    <tr>\n",
       "      <th>Total</th>\n",
       "      <td>210</td>\n",
       "      <td>388</td>\n",
       "      <td>598</td>\n",
       "    </tr>\n",
       "  </tbody>\n",
       "</table>\n",
       "</div>"
      ],
      "text/plain": [
       "Married   No  Yes  Total\n",
       "Gender                  \n",
       "Female    80   31    111\n",
       "Male     130  357    487\n",
       "Total    210  388    598"
      ]
     },
     "execution_count": 9,
     "metadata": {},
     "output_type": "execute_result"
    }
   ],
   "source": [
    "#contigency table of gender and married\n",
    "crosstab01 = pd.crosstab(loan['Gender'], loan['Married'])\n",
    "\n",
    "\n",
    "#gather the totals for the contigency tables and create a new index for Total\n",
    "crosstab01['Total'] = crosstab01.sum(axis=1) #new index column name Total that sums to rows\n",
    "crosstab01.loc['Total'] = crosstab01.sum() #gather the total of each row of the table\n",
    "crosstab01\n"
   ]
  },
  {
   "cell_type": "markdown",
   "id": "c3ef18f4",
   "metadata": {},
   "source": [
    "### Bar graph and Normalized Bar Graph of Credit_History with overlay of Loan_Status"
   ]
  },
  {
   "cell_type": "code",
   "execution_count": 10,
   "id": "bf99ffdc",
   "metadata": {},
   "outputs": [
    {
     "data": {
      "text/plain": [
       "<function matplotlib.pyplot.show(close=None, block=None)>"
      ]
     },
     "execution_count": 10,
     "metadata": {},
     "output_type": "execute_result"
    },
    {
     "data": {
      "image/png": "[encoded data removed]",
      "text/plain": [
       "<Figure size 864x288 with 2 Axes>"
      ]
     },
     "metadata": {
      "needs_background": "light"
     },
     "output_type": "display_data"
    },
    {
     "data": {
      "text/plain": [
       "<Figure size 288x288 with 0 Axes>"
      ]
     },
     "metadata": {},
     "output_type": "display_data"
    },
    {
     "data": {
      "text/plain": [
       "<Figure size 288x288 with 0 Axes>"
      ]
     },
     "metadata": {},
     "output_type": "display_data"
    }
   ],
   "source": [
    "#Bar graph and Normalized Bar Graph of Credit_History with overlay of Loan_Status\n",
    "\n",
    "#contigency table of gender and married\n",
    "crosstab02 = pd.crosstab(loan['Loan_Status_Numeric'], loan['Credit_History'])\n",
    "                         \n",
    "# Create a figure with two subplots side by side\n",
    "fig, axes = plt.subplots(1, 2, figsize=(12, 4))\n",
    "\n",
    "#crosstab01 bar graph\n",
    "plt.figure(figsize=(4, 4))\n",
    "crosstab02.plot(kind='bar', stacked = True, ax=axes[0])\n",
    "axes[0].set_title('Stacked Bar Plot - Original')\n",
    "\n",
    "#run this code block to create a normalized contigency table from crosstab_01\n",
    "plt.figure(figsize=(4, 4))\n",
    "crosstab_norm = crosstab02.div(crosstab02.sum(1), axis = 0)\n",
    "#create a stacked bar graph using crosstab_norm\n",
    "crosstab_norm.plot(kind='bar', stacked = True, ax=axes[1])\n",
    "axes[1].set_title('Stacked Bar Plot - Normalized')\n",
    "\n",
    "# Adjust layout to prevent overlap\n",
    "plt.tight_layout()\n",
    "\n",
    "# Show the plots\n",
    "plt.show"
   ]
  },
  {
   "cell_type": "markdown",
   "id": "b07d3965",
   "metadata": {},
   "source": [
    "## Data Preparation\n",
    "Here we clean the data and change all categorical variables to numerical variables, we replace NaN values with -1. "
   ]
  },
  {
   "cell_type": "code",
   "execution_count": 11,
   "id": "91dbbf6e",
   "metadata": {},
   "outputs": [],
   "source": [
    "# Replace NaN values with a specific value (e.g., 0)\n",
    "# Convert 'Credit_History' column to numerical values\n",
    "#loan['Credit_History'] = pd.Categorical(loan['Credit_History']).codes\n",
    "# Convert 'Credit_History' column to float\n",
    "#loan['Credit_History'] = loan['Credit_History'].astype(float)\n",
    "\n",
    "# Replace NaN values with a specific value (e.g., 0)\n",
    "# Convert 'Credit_History' column to numerical values\n",
    "#loan['Credit_History'] = pd.Categorical(loan['Credit_History']).codes\n",
    "# Convert 'Credit_History' column to float\n",
    "#loan['Credit_History'] = loan['Credit_History'].astype(float)\n",
    "\n",
    "\n",
    "#new index column for Education to create a numerical column \n",
    "loan['Education'] = loan['Education']\n",
    "#create a dictionary for loan_status\n",
    "dict_gender = {\"Education\": {\"Not Graduate\": 0, \"Graduate\": 1}} \n",
    "loan.replace(dict_gender, inplace=True)\n",
    "\n",
    "\n",
    "#new index column for Gender to create a numerical column \n",
    "loan['Gender'] = loan['Gender']\n",
    "#create a dictionary for Gender\n",
    "dict_gender = {\"Gender\": {\"Male\": 1, \"Female\": 0}} \n",
    "loan.replace(dict_gender, inplace=True)\n",
    "\n",
    "\n",
    "#new index column for Married to create a numerical column \n",
    "loan['Married'] = loan['Married']\n",
    "#create a dictionary for Married\n",
    "dict_gender = {\"Married\": {\"No\": 0, \"Yes\": 1}} \n",
    "loan.replace(dict_gender, inplace=True)\n",
    "\n",
    "\n",
    "#new index column for Self_Employed to create a numerical column \n",
    "loan['Self_Employed'] = loan['Self_Employed']\n",
    "#create a dictionary for Self_Employed\n",
    "dict_selfemp = {\"Self_Employed\": {\"No\": 0, \"Yes\": 1}} \n",
    "loan.replace(dict_selfemp, inplace=True)\n",
    "\n",
    "\n",
    "#new index column for Dependents to create a numerical column \n",
    "loan['Dependents'] = loan['Dependents']\n",
    "#create a dictionary for Dependents\n",
    "dict_prop = {\"Dependents\": {\"0\": 0, \"1\": 1, \"2\": 2, \"3+\": 3}} \n",
    "loan.replace(dict_prop, inplace=True)\n",
    "\n",
    "#new index column for gender to create a numerical column \n",
    "loan['Property_Area'] = loan['Property_Area']\n",
    "#create a dictionary for Property_Area\n",
    "dict_prop = {\"Property_Area\": {\"Rural\": 0, \"Urban\": 1, \"Semiurban\": 2}} \n",
    "loan.replace(dict_prop, inplace=True)\n",
    "\n",
    "#change NaN values to -1 on all variables\n",
    "loan['Credit_History'].fillna(-1, inplace=True)\n",
    "loan['LoanAmount'].fillna(-1, inplace=True)\n",
    "loan['Loan_Amount_Term'].fillna(-1, inplace=True)\n",
    "loan['Gender'].fillna(-1, inplace=True)\n",
    "loan['Married'].fillna(-1, inplace=True)\n",
    "loan['Dependents'].fillna(-1, inplace=True)\n",
    "loan['Self_Employed'].fillna(-1, inplace=True)"
   ]
  },
  {
   "cell_type": "code",
   "execution_count": 12,
   "id": "e6533d2e",
   "metadata": {},
   "outputs": [
    {
     "data": {
      "text/html": [
       "<div>\n",
       "<style scoped>\n",
       "    .dataframe tbody tr th:only-of-type {\n",
       "        vertical-align: middle;\n",
       "    }\n",
       "\n",
       "    .dataframe tbody tr th {\n",
       "        vertical-align: top;\n",
       "    }\n",
       "\n",
       "    .dataframe thead th {\n",
       "        text-align: right;\n",
       "    }\n",
       "</style>\n",
       "<table border=\"1\" class=\"dataframe\">\n",
       "  <thead>\n",
       "    <tr style=\"text-align: right;\">\n",
       "      <th></th>\n",
       "      <th>Loan_ID</th>\n",
       "      <th>Gender</th>\n",
       "      <th>Married</th>\n",
       "      <th>Dependents</th>\n",
       "      <th>Education</th>\n",
       "      <th>Self_Employed</th>\n",
       "      <th>ApplicantIncome</th>\n",
       "      <th>CoapplicantIncome</th>\n",
       "      <th>LoanAmount</th>\n",
       "      <th>Loan_Amount_Term</th>\n",
       "      <th>Credit_History</th>\n",
       "      <th>Property_Area</th>\n",
       "      <th>Loan_Status</th>\n",
       "      <th>Loan_Status_Numeric</th>\n",
       "    </tr>\n",
       "  </thead>\n",
       "  <tbody>\n",
       "    <tr>\n",
       "      <th>0</th>\n",
       "      <td>LP001002</td>\n",
       "      <td>1.0</td>\n",
       "      <td>0.0</td>\n",
       "      <td>0.0</td>\n",
       "      <td>1</td>\n",
       "      <td>0.0</td>\n",
       "      <td>5849</td>\n",
       "      <td>0.0</td>\n",
       "      <td>-1.0</td>\n",
       "      <td>360.0</td>\n",
       "      <td>1.0</td>\n",
       "      <td>1</td>\n",
       "      <td>Y</td>\n",
       "      <td>1</td>\n",
       "    </tr>\n",
       "    <tr>\n",
       "      <th>1</th>\n",
       "      <td>LP001003</td>\n",
       "      <td>1.0</td>\n",
       "      <td>1.0</td>\n",
       "      <td>1.0</td>\n",
       "      <td>1</td>\n",
       "      <td>0.0</td>\n",
       "      <td>4583</td>\n",
       "      <td>1508.0</td>\n",
       "      <td>128.0</td>\n",
       "      <td>360.0</td>\n",
       "      <td>1.0</td>\n",
       "      <td>0</td>\n",
       "      <td>N</td>\n",
       "      <td>0</td>\n",
       "    </tr>\n",
       "    <tr>\n",
       "      <th>2</th>\n",
       "      <td>LP001005</td>\n",
       "      <td>1.0</td>\n",
       "      <td>1.0</td>\n",
       "      <td>0.0</td>\n",
       "      <td>1</td>\n",
       "      <td>1.0</td>\n",
       "      <td>3000</td>\n",
       "      <td>0.0</td>\n",
       "      <td>66.0</td>\n",
       "      <td>360.0</td>\n",
       "      <td>1.0</td>\n",
       "      <td>1</td>\n",
       "      <td>Y</td>\n",
       "      <td>1</td>\n",
       "    </tr>\n",
       "    <tr>\n",
       "      <th>3</th>\n",
       "      <td>LP001006</td>\n",
       "      <td>1.0</td>\n",
       "      <td>1.0</td>\n",
       "      <td>0.0</td>\n",
       "      <td>0</td>\n",
       "      <td>0.0</td>\n",
       "      <td>2583</td>\n",
       "      <td>2358.0</td>\n",
       "      <td>120.0</td>\n",
       "      <td>360.0</td>\n",
       "      <td>1.0</td>\n",
       "      <td>1</td>\n",
       "      <td>Y</td>\n",
       "      <td>1</td>\n",
       "    </tr>\n",
       "    <tr>\n",
       "      <th>4</th>\n",
       "      <td>LP001008</td>\n",
       "      <td>1.0</td>\n",
       "      <td>0.0</td>\n",
       "      <td>0.0</td>\n",
       "      <td>1</td>\n",
       "      <td>0.0</td>\n",
       "      <td>6000</td>\n",
       "      <td>0.0</td>\n",
       "      <td>141.0</td>\n",
       "      <td>360.0</td>\n",
       "      <td>1.0</td>\n",
       "      <td>1</td>\n",
       "      <td>Y</td>\n",
       "      <td>1</td>\n",
       "    </tr>\n",
       "  </tbody>\n",
       "</table>\n",
       "</div>"
      ],
      "text/plain": [
       "    Loan_ID  Gender  Married  Dependents  Education  Self_Employed  \\\n",
       "0  LP001002     1.0      0.0         0.0          1            0.0   \n",
       "1  LP001003     1.0      1.0         1.0          1            0.0   \n",
       "2  LP001005     1.0      1.0         0.0          1            1.0   \n",
       "3  LP001006     1.0      1.0         0.0          0            0.0   \n",
       "4  LP001008     1.0      0.0         0.0          1            0.0   \n",
       "\n",
       "   ApplicantIncome  CoapplicantIncome  LoanAmount  Loan_Amount_Term  \\\n",
       "0             5849                0.0        -1.0             360.0   \n",
       "1             4583             1508.0       128.0             360.0   \n",
       "2             3000                0.0        66.0             360.0   \n",
       "3             2583             2358.0       120.0             360.0   \n",
       "4             6000                0.0       141.0             360.0   \n",
       "\n",
       "   Credit_History  Property_Area Loan_Status  Loan_Status_Numeric  \n",
       "0             1.0              1           Y                    1  \n",
       "1             1.0              0           N                    0  \n",
       "2             1.0              1           Y                    1  \n",
       "3             1.0              1           Y                    1  \n",
       "4             1.0              1           Y                    1  "
      ]
     },
     "execution_count": 12,
     "metadata": {},
     "output_type": "execute_result"
    }
   ],
   "source": [
    "loan.head()"
   ]
  },
  {
   "cell_type": "code",
   "execution_count": 13,
   "id": "c6a37655",
   "metadata": {},
   "outputs": [
    {
     "name": "stdout",
     "output_type": "stream",
     "text": [
      "<class 'pandas.core.frame.DataFrame'>\n",
      "RangeIndex: 614 entries, 0 to 613\n",
      "Data columns (total 14 columns):\n",
      " #   Column               Non-Null Count  Dtype  \n",
      "---  ------               --------------  -----  \n",
      " 0   Loan_ID              614 non-null    object \n",
      " 1   Gender               614 non-null    float64\n",
      " 2   Married              614 non-null    float64\n",
      " 3   Dependents           614 non-null    float64\n",
      " 4   Education            614 non-null    int64  \n",
      " 5   Self_Employed        614 non-null    float64\n",
      " 6   ApplicantIncome      614 non-null    int64  \n",
      " 7   CoapplicantIncome    614 non-null    float64\n",
      " 8   LoanAmount           614 non-null    float64\n",
      " 9   Loan_Amount_Term     614 non-null    float64\n",
      " 10  Credit_History       614 non-null    float64\n",
      " 11  Property_Area        614 non-null    int64  \n",
      " 12  Loan_Status          614 non-null    object \n",
      " 13  Loan_Status_Numeric  614 non-null    int64  \n",
      "dtypes: float64(8), int64(4), object(2)\n",
      "memory usage: 67.3+ KB\n"
     ]
    }
   ],
   "source": [
    "loan.info()"
   ]
  },
  {
   "cell_type": "markdown",
   "id": "2c1087c4",
   "metadata": {},
   "source": [
    "## Train_Test_Split "
   ]
  },
  {
   "cell_type": "code",
   "execution_count": 14,
   "id": "0ceab310",
   "metadata": {},
   "outputs": [],
   "source": [
    "loan_train, loan_test = train_test_split(loan, test_size = 0.25, random_state = 7)"
   ]
  },
  {
   "cell_type": "code",
   "execution_count": 15,
   "id": "467f9f45",
   "metadata": {},
   "outputs": [
    {
     "data": {
      "text/plain": [
       "Y    316\n",
       "N    144\n",
       "Name: Loan_Status, dtype: int64"
      ]
     },
     "execution_count": 15,
     "metadata": {},
     "output_type": "execute_result"
    }
   ],
   "source": [
    "#loan_train value counts for Loan_Status\n",
    "loan_train['Loan_Status'].value_counts()"
   ]
  },
  {
   "cell_type": "markdown",
   "id": "38399571",
   "metadata": {},
   "source": [
    "### Isolating target variables from predictor variables in both the training and test data sets"
   ]
  },
  {
   "cell_type": "code",
   "execution_count": 16,
   "id": "2b570f1a",
   "metadata": {},
   "outputs": [],
   "source": [
    "#Isolating target variables from predictor variables in both the training and test data sets\n",
    "\n",
    "#X_train predictor Variable\n",
    "X_train = loan_train.drop(columns=['Loan_ID', 'Loan_Status', 'Loan_Status_Numeric'])\n",
    "\n",
    "#X_test predictor Variable\n",
    "X_test = loan_test.drop(columns=['Loan_ID', 'Loan_Status', 'Loan_Status_Numeric'])\n",
    "\n",
    "#Y_train categorical target variable for loan status\n",
    "Y_train_cat = loan_train['Loan_Status']\n",
    "\n",
    "#Y_train numerical target variable for loan status\n",
    "Y_train_num = loan_train['Loan_Status_Numeric']\n",
    "\n",
    "#Y_test categorical target variable for loan status\n",
    "Y_test_cat = loan_test['Loan_Status']\n",
    "\n",
    "#Y_train numerical target variable for loan status\n",
    "Y_test_num = loan_test['Loan_Status_Numeric']"
   ]
  },
  {
   "cell_type": "code",
   "execution_count": 17,
   "id": "3c82f82f",
   "metadata": {},
   "outputs": [
    {
     "data": {
      "text/html": [
       "<div>\n",
       "<style scoped>\n",
       "    .dataframe tbody tr th:only-of-type {\n",
       "        vertical-align: middle;\n",
       "    }\n",
       "\n",
       "    .dataframe tbody tr th {\n",
       "        vertical-align: top;\n",
       "    }\n",
       "\n",
       "    .dataframe thead th {\n",
       "        text-align: right;\n",
       "    }\n",
       "</style>\n",
       "<table border=\"1\" class=\"dataframe\">\n",
       "  <thead>\n",
       "    <tr style=\"text-align: right;\">\n",
       "      <th></th>\n",
       "      <th>Gender</th>\n",
       "      <th>Married</th>\n",
       "      <th>Dependents</th>\n",
       "      <th>Education</th>\n",
       "      <th>Self_Employed</th>\n",
       "      <th>ApplicantIncome</th>\n",
       "      <th>CoapplicantIncome</th>\n",
       "      <th>LoanAmount</th>\n",
       "      <th>Loan_Amount_Term</th>\n",
       "      <th>Credit_History</th>\n",
       "      <th>Property_Area</th>\n",
       "    </tr>\n",
       "  </thead>\n",
       "  <tbody>\n",
       "    <tr>\n",
       "      <th>192</th>\n",
       "      <td>1.0</td>\n",
       "      <td>1.0</td>\n",
       "      <td>0.0</td>\n",
       "      <td>0</td>\n",
       "      <td>0.0</td>\n",
       "      <td>6033</td>\n",
       "      <td>0.0</td>\n",
       "      <td>160.0</td>\n",
       "      <td>360.0</td>\n",
       "      <td>1.0</td>\n",
       "      <td>1</td>\n",
       "    </tr>\n",
       "    <tr>\n",
       "      <th>280</th>\n",
       "      <td>1.0</td>\n",
       "      <td>0.0</td>\n",
       "      <td>1.0</td>\n",
       "      <td>0</td>\n",
       "      <td>1.0</td>\n",
       "      <td>4053</td>\n",
       "      <td>2426.0</td>\n",
       "      <td>158.0</td>\n",
       "      <td>360.0</td>\n",
       "      <td>0.0</td>\n",
       "      <td>1</td>\n",
       "    </tr>\n",
       "    <tr>\n",
       "      <th>418</th>\n",
       "      <td>1.0</td>\n",
       "      <td>1.0</td>\n",
       "      <td>0.0</td>\n",
       "      <td>1</td>\n",
       "      <td>0.0</td>\n",
       "      <td>1025</td>\n",
       "      <td>2773.0</td>\n",
       "      <td>112.0</td>\n",
       "      <td>360.0</td>\n",
       "      <td>1.0</td>\n",
       "      <td>0</td>\n",
       "    </tr>\n",
       "    <tr>\n",
       "      <th>259</th>\n",
       "      <td>1.0</td>\n",
       "      <td>1.0</td>\n",
       "      <td>3.0</td>\n",
       "      <td>0</td>\n",
       "      <td>0.0</td>\n",
       "      <td>4931</td>\n",
       "      <td>0.0</td>\n",
       "      <td>128.0</td>\n",
       "      <td>360.0</td>\n",
       "      <td>-1.0</td>\n",
       "      <td>2</td>\n",
       "    </tr>\n",
       "    <tr>\n",
       "      <th>436</th>\n",
       "      <td>1.0</td>\n",
       "      <td>0.0</td>\n",
       "      <td>0.0</td>\n",
       "      <td>1</td>\n",
       "      <td>0.0</td>\n",
       "      <td>1926</td>\n",
       "      <td>1851.0</td>\n",
       "      <td>50.0</td>\n",
       "      <td>360.0</td>\n",
       "      <td>1.0</td>\n",
       "      <td>2</td>\n",
       "    </tr>\n",
       "  </tbody>\n",
       "</table>\n",
       "</div>"
      ],
      "text/plain": [
       "     Gender  Married  Dependents  Education  Self_Employed  ApplicantIncome  \\\n",
       "192     1.0      1.0         0.0          0            0.0             6033   \n",
       "280     1.0      0.0         1.0          0            1.0             4053   \n",
       "418     1.0      1.0         0.0          1            0.0             1025   \n",
       "259     1.0      1.0         3.0          0            0.0             4931   \n",
       "436     1.0      0.0         0.0          1            0.0             1926   \n",
       "\n",
       "     CoapplicantIncome  LoanAmount  Loan_Amount_Term  Credit_History  \\\n",
       "192                0.0       160.0             360.0             1.0   \n",
       "280             2426.0       158.0             360.0             0.0   \n",
       "418             2773.0       112.0             360.0             1.0   \n",
       "259                0.0       128.0             360.0            -1.0   \n",
       "436             1851.0        50.0             360.0             1.0   \n",
       "\n",
       "     Property_Area  \n",
       "192              1  \n",
       "280              1  \n",
       "418              0  \n",
       "259              2  \n",
       "436              2  "
      ]
     },
     "execution_count": 17,
     "metadata": {},
     "output_type": "execute_result"
    }
   ],
   "source": [
    "X_train.head()"
   ]
  },
  {
   "cell_type": "code",
   "execution_count": 18,
   "id": "5280b891",
   "metadata": {},
   "outputs": [],
   "source": [
    "# Replace NaN values with a specific value (e.g., 0)\n",
    "loan['Credit_History'].fillna(-1, inplace=True)\n",
    "\n",
    "# Convert 'Category' column to numerical values\n",
    "loan['Credit_History'] = pd.Categorical(loan['Credit_History']).codes\n",
    "\n",
    "# Convert 'Category' column to float\n",
    "loan['Credit_History'] = loan['Credit_History'].astype(float)\n",
    "\n",
    "\n",
    "#loan['Credit_History'].fillna(-1, inplace=True)"
   ]
  },
  {
   "cell_type": "code",
   "execution_count": 19,
   "id": "0cdc6119",
   "metadata": {},
   "outputs": [
    {
     "data": {
      "text/plain": [
       "2.0    475\n",
       "1.0     89\n",
       "0.0     50\n",
       "Name: Credit_History, dtype: int64"
      ]
     },
     "execution_count": 19,
     "metadata": {},
     "output_type": "execute_result"
    }
   ],
   "source": [
    "loan['Credit_History'].value_counts()"
   ]
  },
  {
   "cell_type": "code",
   "execution_count": 20,
   "id": "cfabc9a2",
   "metadata": {},
   "outputs": [
    {
     "data": {
      "text/plain": [
       "Loan_ID                0\n",
       "Gender                 0\n",
       "Married                0\n",
       "Dependents             0\n",
       "Education              0\n",
       "Self_Employed          0\n",
       "ApplicantIncome        0\n",
       "CoapplicantIncome      0\n",
       "LoanAmount             0\n",
       "Loan_Amount_Term       0\n",
       "Credit_History         0\n",
       "Property_Area          0\n",
       "Loan_Status            0\n",
       "Loan_Status_Numeric    0\n",
       "dtype: int64"
      ]
     },
     "execution_count": 20,
     "metadata": {},
     "output_type": "execute_result"
    }
   ],
   "source": [
    "loan.isnull().sum()"
   ]
  },
  {
   "cell_type": "markdown",
   "id": "6a9980e7",
   "metadata": {},
   "source": [
    "## Modeling and Evaluation of CART Algorithm"
   ]
  },
  {
   "cell_type": "markdown",
   "id": "4ad65b17",
   "metadata": {},
   "source": [
    "### Run the CART algorithm on the training data set and make predictions"
   ]
  },
  {
   "cell_type": "code",
   "execution_count": 21,
   "id": "c3d9d94b",
   "metadata": {},
   "outputs": [],
   "source": [
    "#run the cart algorithm on the training data set with X_train and Y_train_num\n",
    "cart01 = DecisionTreeClassifier(criterion = \"gini\", \n",
    "                                max_leaf_nodes=5).fit(X_train, Y_train_num)"
   ]
  },
  {
   "cell_type": "code",
   "execution_count": 22,
   "id": "3934f4d0",
   "metadata": {},
   "outputs": [],
   "source": [
    "#use cart algorithm to make predictions on X_test\n",
    "ypred_cart = cart01.predict(X_test)"
   ]
  },
  {
   "cell_type": "markdown",
   "id": "701e1b9b",
   "metadata": {},
   "source": [
    "### Calculate Evaluation Metrics for CART algorithm"
   ]
  },
  {
   "cell_type": "code",
   "execution_count": 23,
   "id": "8f5645cd",
   "metadata": {},
   "outputs": [
    {
     "name": "stdout",
     "output_type": "stream",
     "text": [
      "CART Algorithm Model - Mean Squared Error: 0.18831168831168832\n",
      "CART Algortithm Model - Mean Absolute Error: 0.18831168831168832\n"
     ]
    }
   ],
   "source": [
    "mse_cart = mean_squared_error(Y_test_num, ypred_cart)\n",
    "mae_cart = mean_absolute_error(Y_test_num, ypred_cart)\n",
    "\n",
    "print(f\"CART Algorithm Model - Mean Squared Error: {mse_cart}\")\n",
    "print(f\"CART Algortithm Model - Mean Absolute Error: {mae_cart}\")"
   ]
  },
  {
   "cell_type": "markdown",
   "id": "caa9c6e2",
   "metadata": {},
   "source": [
    "### Feature Importances for CART algorithm"
   ]
  },
  {
   "cell_type": "code",
   "execution_count": 24,
   "id": "12dc8737",
   "metadata": {},
   "outputs": [
    {
     "data": {
      "image/png": "[encoded data removed]",
      "text/plain": [
       "<Figure size 576x432 with 1 Axes>"
      ]
     },
     "metadata": {
      "needs_background": "light"
     },
     "output_type": "display_data"
    }
   ],
   "source": [
    "# Get feature importance\n",
    "importance = cart01.feature_importances_\n",
    "\n",
    "#get column names\n",
    "X_names = X_train.columns\n",
    "feature_names = X_names\n",
    "\n",
    "plt.figure(figsize=(8, 6))\n",
    "plt.barh(range(X_train.shape[1]), importance, align='center')\n",
    "plt.yticks(np.arange(X_train.shape[1]), feature_names)\n",
    "plt.xlabel('Feature Importance')\n",
    "plt.ylabel('Feature')\n",
    "plt.title('Feature Importance of CART Algorithm')\n",
    "plt.show()"
   ]
  },
  {
   "cell_type": "markdown",
   "id": "b60212b1",
   "metadata": {},
   "source": [
    "## Modeling and Evaluation of Gaussian Naive Bayes Algorithm"
   ]
  },
  {
   "cell_type": "markdown",
   "id": "75d83d83",
   "metadata": {},
   "source": [
    "### Run the Gaussian Naive Bayes algorithm on the training data set and make predictions"
   ]
  },
  {
   "cell_type": "code",
   "execution_count": 25,
   "id": "37446727",
   "metadata": {},
   "outputs": [],
   "source": [
    "#run Gaussian Naive Bayes on the training data set with X_train and Y_train_num\n",
    "GNB01 = GaussianNB().fit(X_train, Y_train_num)"
   ]
  },
  {
   "cell_type": "code",
   "execution_count": 26,
   "id": "92a5bf69",
   "metadata": {},
   "outputs": [],
   "source": [
    "#use Gaussian Naive Bayes algorithm to make predictions on X_test\n",
    "ypred_GNB = GNB01.predict(X_test)"
   ]
  },
  {
   "cell_type": "markdown",
   "id": "e6f2e400",
   "metadata": {},
   "source": [
    "### Calculate Evaluation Metrics for Gaussian Naive Bayes algorithm"
   ]
  },
  {
   "cell_type": "code",
   "execution_count": 27,
   "id": "f2c9c487",
   "metadata": {},
   "outputs": [
    {
     "name": "stdout",
     "output_type": "stream",
     "text": [
      "Gaussian Naive Bayes Algorithm Model - Mean Squared Error: 0.35064935064935066\n",
      "Gaussian Naive Bayes Algortithm Model - Mean Absolute Error: 0.35064935064935066\n"
     ]
    }
   ],
   "source": [
    "mse_GNB = mean_squared_error(Y_test_num, ypred_GNB)\n",
    "mae_GNB = mean_absolute_error(Y_test_num, ypred_GNB)\n",
    "\n",
    "print(f\"Gaussian Naive Bayes Algorithm Model - Mean Squared Error: {mse_GNB}\")\n",
    "print(f\"Gaussian Naive Bayes Algortithm Model - Mean Absolute Error: {mae_GNB}\")"
   ]
  },
  {
   "cell_type": "markdown",
   "id": "1f846d3d",
   "metadata": {},
   "source": [
    "### Feature Importances for Gaussian Naive Bayes Algorithm"
   ]
  },
  {
   "cell_type": "code",
   "execution_count": 28,
   "id": "9b1d7c01",
   "metadata": {},
   "outputs": [
    {
     "data": {
      "image/png": "[encoded data removed]",
      "text/plain": [
       "<Figure size 576x432 with 1 Axes>"
      ]
     },
     "metadata": {
      "needs_background": "light"
     },
     "output_type": "display_data"
    }
   ],
   "source": [
    "# Get mean and standard deviation of each feature for each class\n",
    "class_means = GNB01.theta_\n",
    "class_stddevs = GNB01.sigma_\n",
    "\n",
    "# Calculate feature importance (using mean or standard deviation)\n",
    "# For simplicity, let's use the mean\n",
    "importance = np.mean(class_means, axis=0)\n",
    "\n",
    "# Plot feature importance\n",
    "plt.figure(figsize=(8, 6))\n",
    "plt.barh(range(X_train.shape[1]), importance, align='center')\n",
    "plt.yticks(np.arange(X_train.shape[1]), feature_names)\n",
    "plt.xlabel('Feature Importance')\n",
    "plt.ylabel('Feature')\n",
    "plt.title('Feature Importance of Gaussian Naive Bayes')\n",
    "plt.show()"
   ]
  },
  {
   "cell_type": "markdown",
   "id": "0dee2030",
   "metadata": {},
   "source": [
    "### Run the Multiple Linear Regression algorithm on the training data set and make predictions"
   ]
  },
  {
   "cell_type": "code",
   "execution_count": 29,
   "id": "28adcb99",
   "metadata": {},
   "outputs": [
    {
     "name": "stderr",
     "output_type": "stream",
     "text": [
      "/Users/shanisewalker/opt/anaconda3/lib/python3.9/site-packages/statsmodels/tsa/tsatools.py:142: FutureWarning: In a future version of pandas all arguments of concat except for the argument 'objs' will be keyword-only\n",
      "  x = pd.concat(x[::order], 1)\n"
     ]
    }
   ],
   "source": [
    "# add constant to X_train data set\n",
    "Xtrain = sm.add_constant(X_train)\n",
    "\n",
    "#add constant to X_test data set\n",
    "Xtest = sm.add_constant(X_test)"
   ]
  },
  {
   "cell_type": "code",
   "execution_count": 30,
   "id": "115bf81c",
   "metadata": {},
   "outputs": [],
   "source": [
    "#run Multiple Linear Regression on the training data set with Xtrain and Y_train_num\n",
    "reg01 = sm.OLS(Y_train_num, Xtrain).fit()"
   ]
  },
  {
   "cell_type": "code",
   "execution_count": 31,
   "id": "97490fe1",
   "metadata": {},
   "outputs": [],
   "source": [
    "#use Multiple Linear Regression to make predictions on Xtest\n",
    "ypred_reg = reg01.predict(Xtest)"
   ]
  },
  {
   "cell_type": "markdown",
   "id": "21cd59f5",
   "metadata": {},
   "source": [
    "### Calculate Evaluation Metrics for Multiple Linear Regression algorithm"
   ]
  },
  {
   "cell_type": "code",
   "execution_count": 32,
   "id": "7c6d31df",
   "metadata": {},
   "outputs": [
    {
     "name": "stdout",
     "output_type": "stream",
     "text": [
      "Gaussian Naive Bayes Algorithm Model - Mean Squared Error: 0.19417265890932137\n",
      "Gaussian Naive Bayes Algortithm Model - Mean Absolute Error: 0.3834264018467577\n"
     ]
    }
   ],
   "source": [
    "mse_reg = mean_squared_error(Y_test_num, ypred_reg)\n",
    "mae_reg = mean_absolute_error(Y_test_num, ypred_reg)\n",
    "#accuracy_reg = accuracy_score(Y_test_num, ypred_reg)\n",
    "\n",
    "print(f\"Gaussian Naive Bayes Algorithm Model - Mean Squared Error: {mse_reg}\")\n",
    "print(f\"Gaussian Naive Bayes Algortithm Model - Mean Absolute Error: {mae_reg}\")\n",
    "#print(f\"Gaussian Naive Bayes Algortithm Model  - Accuracy Score: {accuracy_reg}\")"
   ]
  },
  {
   "cell_type": "markdown",
   "id": "10a9a561",
   "metadata": {},
   "source": [
    "### Feature Importances for Multiple Linear Regression"
   ]
  },
  {
   "cell_type": "code",
   "execution_count": 33,
   "id": "9e03f0cb",
   "metadata": {},
   "outputs": [
    {
     "data": {
      "image/png": "[encoded data removed]",
      "text/plain": [
       "<Figure size 576x432 with 1 Axes>"
      ]
     },
     "metadata": {
      "needs_background": "light"
     },
     "output_type": "display_data"
    }
   ],
   "source": [
    "# Get coefficients (feature importance)\n",
    "importance = np.abs(reg01.params[1:])  # Exclude the intercept term\n",
    "\n",
    "# Plot feature importance\n",
    "plt.figure(figsize=(8, 6))\n",
    "plt.barh(range(len(importance)), importance, align='center')\n",
    "plt.yticks(np.arange(len(importance)), feature_names)\n",
    "plt.xlabel('Feature Importance (Absolute Value of Coefficients)')\n",
    "plt.ylabel('Feature')\n",
    "plt.title('Feature Importance of Multiple Linear Regression')\n",
    "plt.show()"
   ]
  },
  {
   "cell_type": "code",
   "execution_count": null,
   "id": "477b86e3",
   "metadata": {},
   "outputs": [],
   "source": []
  }
 ],
 "metadata": {
  "kernelspec": {
   "display_name": "Python 3 (ipykernel)",
   "language": "python",
   "name": "python3"
  },
  "language_info": {
   "codemirror_mode": {
    "name": "ipython",
    "version": 3
   },
   "file_extension": ".py",
   "mimetype": "text/x-python",
   "name": "python",
   "nbconvert_exporter": "python",
   "pygments_lexer": "ipython3",
   "version": "3.9.7"
  }
 },
 "nbformat": 4,
 "nbformat_minor": 5
}
